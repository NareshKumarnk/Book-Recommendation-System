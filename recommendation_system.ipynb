{
 "cells": [
  {
   "cell_type": "code",
   "execution_count": 1,
   "id": "79f32400",
   "metadata": {},
   "outputs": [],
   "source": [
    "import numpy as np\n",
    "import pandas as pd\n",
    "import os\n",
    "from sklearn.metrics.pairwise import cosine_similarity\n",
    "from sklearn.feature_extraction.text import CountVectorizer, TfidfVectorizer\n",
    "from sklearn.metrics.pairwise import linear_kernel"
   ]
  },
  {
   "cell_type": "code",
   "execution_count": 2,
   "id": "ee70edfc",
   "metadata": {},
   "outputs": [
    {
     "data": {
      "text/plain": [
       "(11127, 12)"
      ]
     },
     "execution_count": 2,
     "metadata": {},
     "output_type": "execute_result"
    }
   ],
   "source": [
    "books = pd.read_csv(\"books.csv\")\n",
    "books.shape"
   ]
  },
  {
   "cell_type": "code",
   "execution_count": 3,
   "id": "8ceb199d",
   "metadata": {},
   "outputs": [],
   "source": [
    "books = books[(books[['average_rating','ratings_count','text_reviews_count']] != '0').all(axis=1)]\n",
    "books.drop(books.index[books['authors'] == 'NOT A BOOK'], inplace = True)"
   ]
  },
  {
   "cell_type": "code",
   "execution_count": 4,
   "id": "58246f69",
   "metadata": {},
   "outputs": [],
   "source": [
    "content_data = books[['title','authors','average_rating']]\n",
    "content_data = content_data.astype(str)"
   ]
  },
  {
   "cell_type": "code",
   "execution_count": 5,
   "id": "55df0062",
   "metadata": {},
   "outputs": [],
   "source": [
    "content_data['content'] = content_data['title'] + ' ' + content_data['authors'] + ' ' + content_data['average_rating']"
   ]
  },
  {
   "cell_type": "code",
   "execution_count": 6,
   "id": "3e3fb16f",
   "metadata": {},
   "outputs": [
    {
     "data": {
      "text/plain": [
       "(11097, 4)"
      ]
     },
     "execution_count": 6,
     "metadata": {},
     "output_type": "execute_result"
    }
   ],
   "source": [
    "content_data.shape"
   ]
  },
  {
   "cell_type": "code",
   "execution_count": 7,
   "id": "d7b23093",
   "metadata": {},
   "outputs": [
    {
     "data": {
      "text/plain": [
       "title\n",
       "Harry Potter and the Half-Blood Prince (Harry Potter  #6)           0\n",
       "Harry Potter and the Order of the Phoenix (Harry Potter  #5)        1\n",
       "Harry Potter and the Chamber of Secrets (Harry Potter  #2)          2\n",
       "Harry Potter and the Prisoner of Azkaban (Harry Potter  #3)         3\n",
       "Harry Potter Boxed Set  Books 1-5 (Harry Potter  #1-5)              4\n",
       "                                                                ...  \n",
       "Expelled from Eden: A William T. Vollmann Reader                11092\n",
       "You Bright and Risen Angels                                     11093\n",
       "The Ice-Shirt (Seven Dreams #1)                                 11094\n",
       "Poor People                                                     11095\n",
       "Las aventuras de Tom Sawyer                                     11096\n",
       "Length: 11097, dtype: int64"
      ]
     },
     "execution_count": 7,
     "metadata": {},
     "output_type": "execute_result"
    }
   ],
   "source": [
    "content_data = content_data.reset_index()\n",
    "indices = pd.Series(content_data.index, index=content_data['title'])\n",
    "indices"
   ]
  },
  {
   "cell_type": "code",
   "execution_count": 8,
   "id": "8689044b",
   "metadata": {},
   "outputs": [],
   "source": [
    "count = CountVectorizer(stop_words='english')\n",
    "count_matrix = count.fit_transform(content_data['content'])\n",
    "\n",
    "cosine_sim_content = cosine_similarity(count_matrix, count_matrix)"
   ]
  },
  {
   "cell_type": "code",
   "execution_count": 9,
   "id": "44f55852",
   "metadata": {},
   "outputs": [
    {
     "data": {
      "text/plain": [
       "(11097, 17918)"
      ]
     },
     "execution_count": 9,
     "metadata": {},
     "output_type": "execute_result"
    }
   ],
   "source": [
    "count_matrix.shape"
   ]
  },
  {
   "cell_type": "code",
   "execution_count": 10,
   "id": "adbeceac",
   "metadata": {},
   "outputs": [
    {
     "data": {
      "text/plain": [
       "(11097, 11097)"
      ]
     },
     "execution_count": 10,
     "metadata": {},
     "output_type": "execute_result"
    }
   ],
   "source": [
    "cosine_sim_content.shape"
   ]
  },
  {
   "cell_type": "code",
   "execution_count": 11,
   "id": "805b5f55",
   "metadata": {},
   "outputs": [],
   "source": [
    "select_books = books['title'].unique()"
   ]
  },
  {
   "cell_type": "code",
   "execution_count": 15,
   "id": "3d01c9be",
   "metadata": {},
   "outputs": [],
   "source": [
    "def get_recommendations(title, cosine_sim=cosine_sim_content):\n",
    "    idx = indices[title]\n",
    "\n",
    "    # Get the pairwsie similarity scores of all books with that book\n",
    "    sim_scores = list(enumerate(cosine_sim_content[idx]))\n",
    "\n",
    "    # Sort the books based on the similarity scores\n",
    "    sim_scores = sorted(sim_scores, key=lambda x: x[1], reverse=True)\n",
    "\n",
    "    # Get the scores of the 10 most similar books\n",
    "    sim_scores = sim_scores[1:5]\n",
    "\n",
    "    # Get the book indices\n",
    "    book_indices = [i[0] for i in sim_scores]\n",
    "\n",
    "    # Return the top 10 most similar books\n",
    "    return list(content_data['title'].iloc[book_indices])#,sim_scores"
   ]
  },
  {
   "cell_type": "code",
   "execution_count": 16,
   "id": "f88751fa",
   "metadata": {},
   "outputs": [],
   "source": [
    "def book_shows(book):\n",
    "    for book in book:\n",
    "        print(book)"
   ]
  },
  {
   "cell_type": "code",
   "execution_count": 17,
   "id": "e90010af",
   "metadata": {},
   "outputs": [
    {
     "name": "stdout",
     "output_type": "stream",
     "text": [
      "Enter the book:The Hobbit\n",
      "The Hobbit: Or There and Back Again\n",
      "The Hobbit\n",
      "The Hobbit  or  There and Back Again\n",
      "The Annotated Hobbit\n"
     ]
    }
   ],
   "source": [
    "books4 = get_recommendations(input(\"Enter the book:\"), cosine_sim_content)\n",
    "book_shows(books4)"
   ]
  },
  {
   "cell_type": "code",
   "execution_count": null,
   "id": "02024a4d",
   "metadata": {},
   "outputs": [],
   "source": []
  }
 ],
 "metadata": {
  "kernelspec": {
   "display_name": "Python 3",
   "language": "python",
   "name": "python3"
  },
  "language_info": {
   "codemirror_mode": {
    "name": "ipython",
    "version": 3
   },
   "file_extension": ".py",
   "mimetype": "text/x-python",
   "name": "python",
   "nbconvert_exporter": "python",
   "pygments_lexer": "ipython3",
   "version": "3.8.5"
  }
 },
 "nbformat": 4,
 "nbformat_minor": 5
}

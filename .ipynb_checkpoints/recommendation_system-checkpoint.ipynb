{
 "cells": [
  {
   "cell_type": "code",
   "execution_count": 1,
   "id": "43426afd",
   "metadata": {},
   "outputs": [],
   "source": [
    "import numpy as np\n",
    "import pandas as pd\n",
    "import os\n",
    "from sklearn.metrics.pairwise import cosine_similarity\n",
    "from sklearn.feature_extraction.text import CountVectorizer, TfidfVectorizer\n",
    "from sklearn.metrics.pairwise import linear_kernel"
   ]
  },
  {
   "cell_type": "code",
   "execution_count": 2,
   "id": "c1b34d89",
   "metadata": {},
   "outputs": [],
   "source": [
    "books = pd.read_csv(\"books.csv\")"
   ]
  },
  {
   "cell_type": "code",
   "execution_count": 3,
   "id": "4879b356",
   "metadata": {},
   "outputs": [],
   "source": [
    "books = books[(books[['average_rating','ratings_count','text_reviews_count']] != '0').all(axis=1)]\n",
    "books.drop(books.index[books['authors'] == 'NOT A BOOK'], inplace = True)"
   ]
  },
  {
   "cell_type": "code",
   "execution_count": 4,
   "id": "1402ff59",
   "metadata": {},
   "outputs": [],
   "source": [
    "content_data = books[['title','authors','average_rating']]\n",
    "content_data = content_data.astype(str)"
   ]
  },
  {
   "cell_type": "code",
   "execution_count": 5,
   "id": "09f77aad",
   "metadata": {},
   "outputs": [],
   "source": [
    "content_data['content'] = content_data['title'] + ' ' + content_data['authors'] + ' ' + content_data['average_rating']"
   ]
  },
  {
   "cell_type": "code",
   "execution_count": 6,
   "id": "93eb3a9d",
   "metadata": {},
   "outputs": [],
   "source": [
    "content_data = content_data.reset_index()\n",
    "indices = pd.Series(content_data.index, index=content_data['title'])"
   ]
  },
  {
   "cell_type": "code",
   "execution_count": 7,
   "id": "c6735cad",
   "metadata": {},
   "outputs": [],
   "source": [
    "select_books = books['title'].unique()"
   ]
  },
  {
   "cell_type": "code",
   "execution_count": 8,
   "id": "32d530ea",
   "metadata": {},
   "outputs": [],
   "source": [
    "count = CountVectorizer(stop_words='english')\n",
    "count_matrix = count.fit_transform(content_data['content'])\n",
    "\n",
    "cosine_sim_content = cosine_similarity(count_matrix, count_matrix)"
   ]
  },
  {
   "cell_type": "code",
   "execution_count": 9,
   "id": "482ffeb2",
   "metadata": {},
   "outputs": [],
   "source": [
    "def get_recommendations(title, cosine_sim=cosine_sim_content):\n",
    "    idx = indices[title]\n",
    "\n",
    "    # Get the pairwsie similarity scores of all books with that book\n",
    "    sim_scores = list(enumerate(cosine_sim_content[idx]))\n",
    "\n",
    "    # Sort the books based on the similarity scores\n",
    "    sim_scores = sorted(sim_scores, key=lambda x: x[1], reverse=True)\n",
    "\n",
    "    # Get the scores of the 10 most similar books\n",
    "    sim_scores = sim_scores[1:11]\n",
    "\n",
    "    # Get the book indices\n",
    "    book_indices = [i[0] for i in sim_scores]\n",
    "\n",
    "    # Return the top 10 most similar books\n",
    "    return list(content_data['title'].iloc[book_indices])"
   ]
  },
  {
   "cell_type": "code",
   "execution_count": 10,
   "id": "8e84a41a",
   "metadata": {},
   "outputs": [],
   "source": [
    "def book_shows(book):\n",
    "    for book in book:\n",
    "        print(book)"
   ]
  },
  {
   "cell_type": "code",
   "execution_count": 11,
   "id": "db512a2b",
   "metadata": {},
   "outputs": [
    {
     "name": "stdout",
     "output_type": "stream",
     "text": [
      "Enter the bookThe Hobbit\n",
      "The Hobbit: Or There and Back Again\n",
      "The Hobbit\n",
      "The Hobbit  or  There and Back Again\n",
      "The Annotated Hobbit\n",
      "Poems From The Hobbit\n",
      "J.R.R. Tolkien 4-Book Boxed Set: The Hobbit and The Lord of the Rings\n",
      "The Lord of the Rings / The Hobbit\n",
      "Pictures by J.R.R. Tolkien\n",
      "The Letters of J.R.R. Tolkien\n",
      "The Silmarillion\n"
     ]
    }
   ],
   "source": [
    "books4 = get_recommendations(input(\"Enter the book\"), cosine_sim_content)\n",
    "book_shows(books4)"
   ]
  }
 ],
 "metadata": {
  "kernelspec": {
   "display_name": "Python 3",
   "language": "python",
   "name": "python3"
  },
  "language_info": {
   "codemirror_mode": {
    "name": "ipython",
    "version": 3
   },
   "file_extension": ".py",
   "mimetype": "text/x-python",
   "name": "python",
   "nbconvert_exporter": "python",
   "pygments_lexer": "ipython3",
   "version": "3.8.5"
  }
 },
 "nbformat": 4,
 "nbformat_minor": 5
}
